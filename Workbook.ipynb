{
 "cells": [
  {
   "attachments": {},
   "cell_type": "markdown",
   "metadata": {},
   "source": [
    "# Workbook for InTone (Prosody Visualisation Challenge 2023)\n",
    "By Katrina Li 2023.4.1"
   ]
  },
  {
   "attachments": {},
   "cell_type": "markdown",
   "metadata": {},
   "source": [
    "## Outline"
   ]
  },
  {
   "attachments": {},
   "cell_type": "markdown",
   "metadata": {},
   "source": [
    "## Step 1 Pre-process textgrid file (Optional)\n",
    "The praat 'generate_f0_tier.praat'"
   ]
  },
  {
   "cell_type": "code",
   "execution_count": 36,
   "metadata": {},
   "outputs": [],
   "source": [
    "import subprocess\n",
    "from itertools import product\n",
    "import os\n",
    "import shutil\n",
    "par = [\"S10\"]\n",
    "dia = [\"dia1n\"]\n",
    "sentence = [\"A\",\"B\",\"C\",\"D\",\"E\",\"F\"]\n",
    "focus = [\"1\",\"2\"]\n",
    "element_list = list(product(par,dia,sentence,focus))\n",
    "target_file = open(\"./TargetFiles.txt\",\"w\")\n",
    "directory = \"/Users/kechun/Documents/0_PhD_working_folder/Cantonese/workflow/textgrid_checked/\"\n",
    "destination = \"/Users/kechun/Documents/0_PhD_working_folder/Cantonese/workflow/textgrid_checked/processed\"\n",
    "# Argument to the script\n",
    "# The first three is to call the app and script\n",
    "# Arg1: filename\n",
    "# Arg2: f0min (if 0, then the default two-pass pitch range calculation will be used)\n",
    "# Arg3: f0max (if 0, then the default two-pass pitch range calculatio will be used)\n",
    "# Other variables like file directory, the tiers can be modified\n",
    "# Output: the updated f0 \n",
    "for element in element_list:\n",
    "    fullname = ''.join(element)\n",
    "    filename = fullname + \"_checked\"\n",
    "    path = filename + \".TextGrid\"\n",
    "    # target_file.write(filename+\"\\n\")\n",
    "    subprocess.call([\"/Applications/Praat.app/Contents/MacOS/Praat\", \"--run\", \"generate_f0_tier.praat\", filename, \"0\",\"0\"])\n",
    "    shutil.move(os.path.join(directory,path), destination)\n"
   ]
  },
  {
   "attachments": {},
   "cell_type": "markdown",
   "metadata": {},
   "source": [
    "**Log**\n",
    "- S10dia1, A-F\n",
    "- S10dia1n, A-F"
   ]
  },
  {
   "attachments": {},
   "cell_type": "markdown",
   "metadata": {},
   "source": [
    "## Step 2. Extract f0 data\n",
    "Examining the data, if there are missing values, it is better to use `modify_boundaries.praat` to change."
   ]
  },
  {
   "cell_type": "code",
   "execution_count": 38,
   "metadata": {},
   "outputs": [],
   "source": [
    "import extract_acoustics"
   ]
  },
  {
   "attachments": {},
   "cell_type": "markdown",
   "metadata": {},
   "source": [
    "## Step 3 Process the data in the R script"
   ]
  },
  {
   "cell_type": "markdown",
   "metadata": {},
   "source": []
  }
 ],
 "metadata": {
  "kernelspec": {
   "display_name": "p2fa",
   "language": "python",
   "name": "python3"
  },
  "language_info": {
   "codemirror_mode": {
    "name": "ipython",
    "version": 3
   },
   "file_extension": ".py",
   "mimetype": "text/x-python",
   "name": "python",
   "nbconvert_exporter": "python",
   "pygments_lexer": "ipython3",
   "version": "3.10.9"
  },
  "orig_nbformat": 4
 },
 "nbformat": 4,
 "nbformat_minor": 2
}
