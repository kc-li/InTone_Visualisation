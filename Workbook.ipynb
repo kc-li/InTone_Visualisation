{
 "cells": [
  {
   "attachments": {},
   "cell_type": "markdown",
   "metadata": {},
   "source": [
    "# Workbook for InTone (Prosody Visualisation Challenge 2023)\n",
    "By Katrina Li 2023.4.1"
   ]
  },
  {
   "attachments": {},
   "cell_type": "markdown",
   "metadata": {},
   "source": [
    "## Outline"
   ]
  },
  {
   "attachments": {},
   "cell_type": "markdown",
   "metadata": {},
   "source": [
    "## Step 1 Pre-process textgrid file (Optional)\n",
    "The praat 'generate_f0_tier.praat'"
   ]
  },
  {
   "cell_type": "code",
   "execution_count": 13,
   "metadata": {},
   "outputs": [
    {
     "name": "stdout",
     "output_type": "stream",
     "text": [
      "S10dia1A1_checked\n",
      "S10dia1A2_checked\n",
      "S10dia1B1_checked\n",
      "S10dia1B2_checked\n",
      "S10dia1C1_checked\n"
     ]
    },
    {
     "name": "stderr",
     "output_type": "stream",
     "text": [
      "Error: Editor \"TextGrid S10dia1C1_checked\" does not exist.\n",
      "Script line 86 not performed or completed:\n",
      "« editor TextGrid 'textgridName$' »\n",
      "Script “/Users/kechun/GitHub/InTone_Visualisation/generate_f0_tier.praat” not completed.\n",
      "Praat: script command <<generate_f0_tier.praat>> not completed.\n",
      "\n"
     ]
    },
    {
     "ename": "CalledProcessError",
     "evalue": "Command '['/Applications/Praat.app/Contents/MacOS/Praat', '--run', 'generate_f0_tier.praat', 'S10dia1C1_checked', '0', '0']' returned non-zero exit status 255.",
     "output_type": "error",
     "traceback": [
      "\u001b[0;31m---------------------------------------------------------------------------\u001b[0m",
      "\u001b[0;31mCalledProcessError\u001b[0m                        Traceback (most recent call last)",
      "Cell \u001b[0;32mIn[13], line 12\u001b[0m\n\u001b[1;32m     10\u001b[0m     filename \u001b[39m=\u001b[39m fullname \u001b[39m+\u001b[39m \u001b[39m\"\u001b[39m\u001b[39m_checked\u001b[39m\u001b[39m\"\u001b[39m\n\u001b[1;32m     11\u001b[0m     \u001b[39mprint\u001b[39m(filename)\n\u001b[0;32m---> 12\u001b[0m     subprocess\u001b[39m.\u001b[39;49mcheck_call([\u001b[39m'\u001b[39;49m\u001b[39m/Applications/Praat.app/Contents/MacOS/Praat\u001b[39;49m\u001b[39m'\u001b[39;49m, \u001b[39m'\u001b[39;49m\u001b[39m--run\u001b[39;49m\u001b[39m'\u001b[39;49m, \u001b[39m'\u001b[39;49m\u001b[39mgenerate_f0_tier.praat\u001b[39;49m\u001b[39m'\u001b[39;49m, filename, \u001b[39m'\u001b[39;49m\u001b[39m0\u001b[39;49m\u001b[39m'\u001b[39;49m, \u001b[39m'\u001b[39;49m\u001b[39m0\u001b[39;49m\u001b[39m'\u001b[39;49m])\n\u001b[1;32m     13\u001b[0m \u001b[39m# Argument to the script\u001b[39;00m\n\u001b[1;32m     14\u001b[0m \u001b[39m# The first three is to call the app and script\u001b[39;00m\n\u001b[1;32m     15\u001b[0m \u001b[39m# Arg1: filename\u001b[39;00m\n\u001b[0;32m   (...)\u001b[0m\n\u001b[1;32m     20\u001b[0m \u001b[39m# for file in filelist:\u001b[39;00m\n\u001b[1;32m     21\u001b[0m \u001b[39m#     subprocess.call('/Applications/Praat.app', '--run', 'generate_f0_tier.praat', file, '0', '0')\u001b[39;00m\n",
      "File \u001b[0;32m~/miniconda3/envs/p2fa/lib/python3.10/subprocess.py:369\u001b[0m, in \u001b[0;36mcheck_call\u001b[0;34m(*popenargs, **kwargs)\u001b[0m\n\u001b[1;32m    367\u001b[0m     \u001b[39mif\u001b[39;00m cmd \u001b[39mis\u001b[39;00m \u001b[39mNone\u001b[39;00m:\n\u001b[1;32m    368\u001b[0m         cmd \u001b[39m=\u001b[39m popenargs[\u001b[39m0\u001b[39m]\n\u001b[0;32m--> 369\u001b[0m     \u001b[39mraise\u001b[39;00m CalledProcessError(retcode, cmd)\n\u001b[1;32m    370\u001b[0m \u001b[39mreturn\u001b[39;00m \u001b[39m0\u001b[39m\n",
      "\u001b[0;31mCalledProcessError\u001b[0m: Command '['/Applications/Praat.app/Contents/MacOS/Praat', '--run', 'generate_f0_tier.praat', 'S10dia1C1_checked', '0', '0']' returned non-zero exit status 255."
     ]
    }
   ],
   "source": [
    "\n",
    "import subprocess\n",
    "from itertools import product\n",
    "par = [\"S10\"]\n",
    "dia = [\"dia1\"]\n",
    "sentence = [\"A\",\"B\",\"C\",\"D\",\"E\",\"F\"]\n",
    "focus = [\"1\",\"2\"]\n",
    "element_list = list(product(par,dia,sentence,focus))\n",
    "target_file = open(\"./TargetFiles.txt\",\"w\")\n",
    "for element in element_list:\n",
    "    fullname = ''.join(element)\n",
    "    filename = fullname + \"_checked.TextGrid\"\n",
    "    target_file.write(filename)\n",
    "# Argument to the script\n",
    "# The first three is to call the app and script\n",
    "# Arg1: filename\n",
    "# Arg2: f0min (if 0, then the default two-pass pitch range calculation will be used)\n",
    "# Arg3: f0max (if 0, then the default two-pass pitch range calculatio will be used)\n",
    "# Other variables like file directory, the tiers can be modified\n",
    "# Output: the updated f0 "
   ]
  },
  {
   "cell_type": "markdown",
   "metadata": {},
   "source": []
  }
 ],
 "metadata": {
  "kernelspec": {
   "display_name": "p2fa",
   "language": "python",
   "name": "python3"
  },
  "language_info": {
   "codemirror_mode": {
    "name": "ipython",
    "version": 3
   },
   "file_extension": ".py",
   "mimetype": "text/x-python",
   "name": "python",
   "nbconvert_exporter": "python",
   "pygments_lexer": "ipython3",
   "version": "3.10.9"
  },
  "orig_nbformat": 4
 },
 "nbformat": 4,
 "nbformat_minor": 2
}
