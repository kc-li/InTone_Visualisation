{
 "cells": [
  {
   "cell_type": "markdown",
   "metadata": {},
   "source": [
    "## Prepare sound files"
   ]
  },
  {
   "cell_type": "code",
   "execution_count": 2,
   "metadata": {},
   "outputs": [],
   "source": [
    "currentlang = \"Changsha\""
   ]
  },
  {
   "cell_type": "markdown",
   "metadata": {},
   "source": [
    "1. run `p2fasound.praat` to convert original marking files to individual wav files in `/1 individual`"
   ]
  },
  {
   "cell_type": "markdown",
   "metadata": {},
   "source": [
    "2. Use sox to generate new sound files, saved  to `/downsample` folder\n",
    "\n",
    "My current working folder is in GitHub/0 PhD_working folder\n",
    "\n",
    "    `cd /Users/kechun/OneDrive\\ -\\ University\\ of\\ Cambridge/PhD\\ thesis/Cantonese/1\\ Individual_subsets`\n",
    "    \n",
    "    `cd /Users/kechun/GitHub/0\\ PhD_working\\ folder/Cantonese/1\\ Individual_subsets`\n",
    "\n",
    "    `cd /Users/kechun/Documents/0 PhD_working folder/Cantonese/1\\ Individual_subsets/`\n",
    "\n",
    "    `for i in *.wav; do sox \"$i\" -r 16k -b 16 -c 1 \"downsample/${i%.}\"; done`"
   ]
  },
  {
   "cell_type": "code",
   "execution_count": 20,
   "metadata": {},
   "outputs": [
    {
     "name": "stdout",
     "output_type": "stream",
     "text": [
      "/Users/kechun/Documents/0_PhD_working_folder/Changsha/1 Individual\n"
     ]
    }
   ],
   "source": [
    "soundfolder = \"/Users/kechun/Documents/0_PhD_working_folder/\" + currentlang + \"/1 Individual\"\n",
    "%cd {soundfolder}\n",
    "!for i in *.wav; do sox \"$i\" -r 16k -b 16 -c 1 \"downsample/${i%.}\"; done"
   ]
  },
  {
   "cell_type": "markdown",
   "metadata": {},
   "source": [
    "## Prepare the text files (Github)\n",
    "\n",
    "1. Check all the transciption has been listed in the latest excel annotation tab `record`. Then copy the file to `/processtext`. Then run the following code. Remember to change the file name."
   ]
  },
  {
   "cell_type": "code",
   "execution_count": 1,
   "metadata": {},
   "outputs": [
    {
     "name": "stderr",
     "output_type": "stream",
     "text": [
      "/var/folders/tf/xp1pp0c905qbfj8gl5gm79h80000gn/T/ipykernel_21490/528960564.py:12: FutureWarning: The default value of regex will change from True to False in a future version.\n",
      "  df[\"text\"] = df['annotation'].str.replace('[^\\w\\s]','')\n"
     ]
    }
   ],
   "source": [
    "# After checking the 'record' tab in the annotating excel file, we processed it.\n",
    "# In the sheet, there should be four columns: Speaker, file, sentence will be used to generate 'tokenid', whereas the last column is 'transcription'. \n",
    "####### Change file name here #######\n",
    "filename = \"长沙话标注20230430.xlsx\"\n",
    "######################################\n",
    "import pandas as pd\n",
    "import os\n",
    "annofolder = \"/Users/kechun/Documents/P2FA_\" + str(currentlang.lower()) + \"/processtext\"\n",
    "fullname = os.path.join(annofolder,filename)\n",
    "df = pd.read_excel(fullname, sheet_name = \"record\")\n",
    "df[\"text\"] = df['annotation'].str.replace('[^\\w\\s]','')\n",
    "df.text = df.text.str.join(\" \")\n",
    "df[\"tokenid\"]=df['Speaker']+ df['file']+ df['sentence'] + \".wav\"\n",
    "output = df[['tokenid', 'text']]\n",
    "output.to_csv(os.path.join(annofolder, \"list.txt\"), sep = \" \", header = False, index = False)"
   ]
  },
  {
   "cell_type": "markdown",
   "metadata": {},
   "source": [
    "*In terminal (bash) now*"
   ]
  },
  {
   "cell_type": "markdown",
   "metadata": {},
   "source": [
    "2. From list.txt to generate individual text files, run the code below in terminal\n",
    "\n",
    "    `cd /Users/kechun/Documents/P2FA_cantonese/processtext/`\n",
    "\n",
    "    `cat list.txt | while read line || [ -n \"$line\" ]; do echo $line | awk '{$1=\"\"}1'| awk '{$1=$1}1' |awk '{gsub(/\"/, \"\")} 1' > $(cut -d \" \" -f1 <<< individualtxt/$line).txt; done < list.txt`"
   ]
  },
  {
   "cell_type": "code",
   "execution_count": 8,
   "metadata": {},
   "outputs": [
    {
     "name": "stdout",
     "output_type": "stream",
     "text": [
      "/Users/kechun/Documents/P2FA_changsha/processtext\n"
     ]
    }
   ],
   "source": [
    "annofolder = \"/Users/kechun/Documents/P2FA_\" + str(currentlang.lower()) + \"/processtext\"\n",
    "%cd {annofolder}\n",
    "!cat list.txt | while read line || [ -n \"$line\" ]; do echo $line | awk '{$1=\"\"}1'| awk '{$1=$1}1' |awk '{gsub(/\"/, \"\")} 1' > $(cut -d \" \" -f1 <<< individualtxt/$line).txt; done < list.txt"
   ]
  },
  {
   "cell_type": "markdown",
   "metadata": {},
   "source": [
    "3. Run the file to check pronunciation:\n",
    "\n",
    "    `cd /Users/kechun/Documents/P2FA_cantonese/processtext/`\n",
    "\n",
    "    `bash checkpron.sh`\n",
    "    \n",
    "4. Check the `missingwords.txt` as well as the `wordphones.txt` to see if all the characters used in the transcriptions have correct phonetic transcriptions. Modify `dictcopy` accordingly.\n",
    "\n",
    "5. Repeat Step 3 recursively until all issues are clear\n",
    "\n",
    "**In addition, make sure there is no empty lines in the dict file. Otherwise P2FA will report errors.**\n"
   ]
  },
  {
   "cell_type": "code",
   "execution_count": 11,
   "metadata": {},
   "outputs": [
    {
     "name": "stdout",
     "output_type": "stream",
     "text": [
      "/Users/kechun/Documents/P2FA_changsha/processtext\n"
     ]
    }
   ],
   "source": [
    "annofolder = \"/Users/kechun/Documents/P2FA_\" + str(currentlang.lower()) + \"/processtext\"\n",
    "%cd {annofolder}\n",
    "!bash checkpron.sh"
   ]
  },
  {
   "cell_type": "markdown",
   "metadata": {},
   "source": [
    "## Run the P2FA\n",
    "1. Copy the sound files (from `/downsample`) and text files (from `/individualtext`) to `/run`\n",
    "\n",
    "2. Copy the `dictcopy` to `/run/model`, and rename as `dict`\n",
    "\n",
    "2. Make sure the Calign2textgrid.py document 'HOMEDIR' variable shows the right python (where `/run` folder is located)\n",
    "\n",
    "2. Make sure there is folder `/textgrid`\n",
    "\n",
    "3. Run the code below in terminal\n",
    "\n",
    "    `cd /Users/kechun/Documents/P2FA_cantonese/run/`\n",
    "\n",
    "    `for i in *.wav; do python Calign2textgrid.py $i $i.txt textgrid/$i.TextGrid; done`"
   ]
  },
  {
   "cell_type": "code",
   "execution_count": 13,
   "metadata": {},
   "outputs": [
    {
     "name": "stdout",
     "output_type": "stream",
     "text": [
      "/Users/kechun/Documents/P2FA_changsha/run\n"
     ]
    }
   ],
   "source": [
    "runfolder = \"/Users/kechun/Documents/P2FA_\" + str(currentlang.lower()) + \"/run/\"\n",
    "%cd {runfolder}\n",
    "!for i in *.wav; do python Calign2textgrid.py $i $i.txt textgrid/$i.TextGrid; done"
   ]
  },
  {
   "cell_type": "markdown",
   "metadata": {},
   "source": [
    "## Check the recordings\n",
    "\n",
    "1. Move the original sound files (not the downsample one) to `/workflow/sound_original'\n",
    "\n",
    "2. Move the generated textgrid to `workflow/textgrid_original`\n",
    "\n",
    "3. Use the script to move files around if some textgrids are not going to be checked or checked later."
   ]
  }
 ],
 "metadata": {
  "kernelspec": {
   "display_name": "Python 3 (ipykernel)",
   "language": "python",
   "name": "python3"
  },
  "language_info": {
   "codemirror_mode": {
    "name": "ipython",
    "version": 3
   },
   "file_extension": ".py",
   "mimetype": "text/x-python",
   "name": "python",
   "nbconvert_exporter": "python",
   "pygments_lexer": "ipython3",
   "version": "3.10.9"
  },
  "vscode": {
   "interpreter": {
    "hash": "e79691a9e4bc6bdcbdc684eff31eb98e99068d83ca035967ad235b3618ca5970"
   }
  }
 },
 "nbformat": 4,
 "nbformat_minor": 2
}
